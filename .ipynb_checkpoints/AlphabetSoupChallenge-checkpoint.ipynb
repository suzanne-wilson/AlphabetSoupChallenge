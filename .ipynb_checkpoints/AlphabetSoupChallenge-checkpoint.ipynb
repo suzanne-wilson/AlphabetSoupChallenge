{
 "cells": [
  {
   "cell_type": "code",
   "execution_count": 1,
   "metadata": {},
   "outputs": [],
   "source": [
    "# Import our dependencies\n",
    "import pandas as pd\n",
    "import matplotlib as plt\n",
    "import sklearn as skl\n",
    "import tensorflow as tf"
   ]
  },
  {
   "cell_type": "code",
   "execution_count": 46,
   "metadata": {},
   "outputs": [],
   "source": [
    "# Read in our charity data\n",
    "charity_df = pd.read_csv(\"charity_data.csv\")"
   ]
  },
  {
   "cell_type": "code",
   "execution_count": 47,
   "metadata": {},
   "outputs": [
    {
     "name": "stdout",
     "output_type": "stream",
     "text": [
      "T3     27037\n",
      "T4      1542\n",
      "T6      1216\n",
      "T5      1173\n",
      "T19     1065\n",
      "T8       737\n",
      "T7       725\n",
      "T10      528\n",
      "T9       156\n",
      "T13       66\n",
      "T12       27\n",
      "T2        16\n",
      "T14        3\n",
      "T25        3\n",
      "T15        2\n",
      "T29        2\n",
      "T17        1\n",
      "Name: APPLICATION_TYPE, dtype: int64\n"
     ]
    },
    {
     "data": {
      "text/plain": [
       "T3       27037\n",
       "Other     7262\n",
       "Name: APPLICATION_TYPE, dtype: int64"
      ]
     },
     "execution_count": 47,
     "metadata": {},
     "output_type": "execute_result"
    }
   ],
   "source": [
    "# characterize the data\n",
    "# EIN and NAME - remove from dataset\n",
    "\n",
    "# APPLICATION_TYPE t3 vs other\n",
    "apptype_counts = charity_df.APPLICATION_TYPE.value_counts()\n",
    "print(apptype_counts.head(25))\n",
    "\n",
    "# Determine which values to replace\n",
    "replace_APPLICATION_TYPE = list(apptype_counts[apptype_counts < 10000].index)\n",
    "\n",
    "# Replace in DataFrame\n",
    "for APPTYPE in replace_APPLICATION_TYPE:\n",
    "    charity_df.APPLICATION_TYPE = charity_df.APPLICATION_TYPE.replace(APPTYPE,\"Other\")\n",
    "\n",
    "\n",
    "# Check to make sure binning was successful\n",
    "charity_df.APPLICATION_TYPE.value_counts()"
   ]
  },
  {
   "cell_type": "code",
   "execution_count": 48,
   "metadata": {},
   "outputs": [
    {
     "name": "stdout",
     "output_type": "stream",
     "text": [
      "Independent         18480\n",
      "CompanySponsored    15705\n",
      "Family/Parent          64\n",
      "National               33\n",
      "Regional               13\n",
      "Other                   4\n",
      "Name: AFFILIATION, dtype: int64\n"
     ]
    },
    {
     "data": {
      "text/plain": [
       "Other               18594\n",
       "CompanySponsored    15705\n",
       "Name: AFFILIATION, dtype: int64"
      ]
     },
     "execution_count": 48,
     "metadata": {},
     "output_type": "execute_result"
    }
   ],
   "source": [
    "# AFFILIATION 2 classes\n",
    "AFFILIATION_counts = charity_df.AFFILIATION.value_counts()\n",
    "print(AFFILIATION_counts.head(25))\n",
    "\n",
    "# Determine which values to replace\n",
    "replace_AFFILIATION = list(AFFILIATION_counts[(AFFILIATION_counts < 100) | (AFFILIATION_counts > 16000)].index)\n",
    "\n",
    "# Replace in DataFrame\n",
    "for country in replace_AFFILIATION:\n",
    "    charity_df.AFFILIATION = charity_df.AFFILIATION.replace(country,\"Other\")\n",
    "\n",
    "\n",
    "# Check to make sure binning was successful\n",
    "charity_df.AFFILIATION.value_counts()"
   ]
  },
  {
   "cell_type": "code",
   "execution_count": 49,
   "metadata": {},
   "outputs": [
    {
     "name": "stdout",
     "output_type": "stream",
     "text": [
      "C1000    17326\n",
      "C2000     6074\n",
      "C1200     4837\n",
      "C3000     1918\n",
      "C2100     1883\n",
      "C7000      777\n",
      "C1700      287\n",
      "C4000      194\n",
      "C5000      116\n",
      "C1270      114\n",
      "C2700      104\n",
      "C2800       95\n",
      "C7100       75\n",
      "C1300       58\n",
      "C1280       50\n",
      "C1230       36\n",
      "C1400       34\n",
      "C7200       32\n",
      "C2300       32\n",
      "C1240       30\n",
      "C8000       20\n",
      "C7120       18\n",
      "C1500       16\n",
      "C6000       15\n",
      "C1800       15\n",
      "Name: CLASSIFICATION, dtype: int64\n"
     ]
    },
    {
     "data": {
      "text/plain": [
       "C1000    17326\n",
       "Other    16973\n",
       "Name: CLASSIFICATION, dtype: int64"
      ]
     },
     "execution_count": 49,
     "metadata": {},
     "output_type": "execute_result"
    }
   ],
   "source": [
    "# CLASSIFICATION C1000 vs other\n",
    "CLASSIFICATION_counts = charity_df.CLASSIFICATION.value_counts()\n",
    "print(CLASSIFICATION_counts.head(25))\n",
    "\n",
    "# Determine which values to replace\n",
    "replace_CLASSIFICATION = list(CLASSIFICATION_counts[CLASSIFICATION_counts < 10000].index)\n",
    "\n",
    "# Replace in DataFrame\n",
    "for country in replace_CLASSIFICATION:\n",
    "    charity_df.CLASSIFICATION = charity_df.CLASSIFICATION.replace(country,\"Other\")\n",
    "\n",
    "\n",
    "# Check to make sure binning was successful\n",
    "charity_df.CLASSIFICATION.value_counts()"
   ]
  },
  {
   "cell_type": "code",
   "execution_count": 50,
   "metadata": {},
   "outputs": [
    {
     "name": "stdout",
     "output_type": "stream",
     "text": [
      "Preservation     28095\n",
      "ProductDev        5671\n",
      "CommunityServ      384\n",
      "Heathcare          146\n",
      "Other                3\n",
      "Name: USE_CASE, dtype: int64\n"
     ]
    },
    {
     "data": {
      "text/plain": [
       "Other         28628\n",
       "ProductDev     5671\n",
       "Name: USE_CASE, dtype: int64"
      ]
     },
     "execution_count": 50,
     "metadata": {},
     "output_type": "execute_result"
    }
   ],
   "source": [
    "# USE_CASE 2 classes\n",
    "USE_CASE_counts = charity_df.USE_CASE.value_counts()\n",
    "print(USE_CASE_counts.head(25))\n",
    "\n",
    "# Determine which values to replace\n",
    "replace_USE_CASE = list(USE_CASE_counts[(USE_CASE_counts < 1000) | (USE_CASE_counts > 10000)].index)\n",
    "\n",
    "# Replace in DataFrame\n",
    "for country in replace_USE_CASE:\n",
    "    charity_df.USE_CASE = charity_df.USE_CASE.replace(country,\"Other\")\n",
    "\n",
    "\n",
    "# Check to make sure binning was successful\n",
    "charity_df.USE_CASE.value_counts()"
   ]
  },
  {
   "cell_type": "code",
   "execution_count": 51,
   "metadata": {},
   "outputs": [
    {
     "name": "stdout",
     "output_type": "stream",
     "text": [
      "Trust           23515\n",
      "Association     10255\n",
      "Co-operative      486\n",
      "Corporation        43\n",
      "Name: ORGANIZATION, dtype: int64\n"
     ]
    },
    {
     "data": {
      "text/plain": [
       "Other          24044\n",
       "Association    10255\n",
       "Name: ORGANIZATION, dtype: int64"
      ]
     },
     "execution_count": 51,
     "metadata": {},
     "output_type": "execute_result"
    }
   ],
   "source": [
    "# ORGANIZATION 2 classes\n",
    "ORGANIZATION_counts = charity_df.ORGANIZATION.value_counts()\n",
    "print(ORGANIZATION_counts.head(25))\n",
    "\n",
    "# Determine which values to replace\n",
    "replace_ORGANIZATION = list(ORGANIZATION_counts[(ORGANIZATION_counts < 1000) | (ORGANIZATION_counts > 15000)].index)\n",
    "\n",
    "# Replace in DataFrame\n",
    "for country in replace_ORGANIZATION:\n",
    "    charity_df.ORGANIZATION = charity_df.ORGANIZATION.replace(country,\"Other\")\n",
    "\n",
    "\n",
    "# Check to make sure binning was successful\n",
    "charity_df.ORGANIZATION.value_counts()"
   ]
  },
  {
   "cell_type": "code",
   "execution_count": 20,
   "metadata": {},
   "outputs": [
    {
     "name": "stdout",
     "output_type": "stream",
     "text": [
      "1    34294\n",
      "0        5\n",
      "Name: STATUS, dtype: int64\n"
     ]
    }
   ],
   "source": [
    "# STATUS -remove\n",
    "STATUS_counts = charity_df.STATUS.value_counts()\n",
    "print(STATUS_counts.head(25))\n"
   ]
  },
  {
   "cell_type": "code",
   "execution_count": 52,
   "metadata": {},
   "outputs": [
    {
     "name": "stdout",
     "output_type": "stream",
     "text": [
      "0                24388\n",
      "25000-99999       3747\n",
      "100000-499999     3374\n",
      "1M-5M              955\n",
      "1-9999             728\n",
      "10000-24999        543\n",
      "10M-50M            240\n",
      "5M-10M             185\n",
      "50M+               139\n",
      "Name: INCOME_AMT, dtype: int64\n"
     ]
    },
    {
     "data": {
      "text/plain": [
       "0        24388\n",
       "Other     9911\n",
       "Name: INCOME_AMT, dtype: int64"
      ]
     },
     "execution_count": 52,
     "metadata": {},
     "output_type": "execute_result"
    }
   ],
   "source": [
    "# INCOME_AMT - start with none vs any; ordinal classes: 0; 1-9999, 10000-24999, 25000-99999, 100000-499999\n",
    "INCOME_AMT_counts = charity_df.INCOME_AMT.value_counts()\n",
    "print(INCOME_AMT_counts.head(25))\n",
    "\n",
    "# Determine which values to replace\n",
    "replace_INCOME_AMT = list(INCOME_AMT_counts[INCOME_AMT_counts < 5000].index)\n",
    "\n",
    "# Replace in DataFrame\n",
    "for country in replace_INCOME_AMT:\n",
    "    charity_df.INCOME_AMT = charity_df.INCOME_AMT.replace(country,\"Other\")\n",
    "\n",
    "\n",
    "# Check to make sure binning was successful\n",
    "charity_df.INCOME_AMT.value_counts()"
   ]
  },
  {
   "cell_type": "code",
   "execution_count": 23,
   "metadata": {},
   "outputs": [
    {
     "name": "stdout",
     "output_type": "stream",
     "text": [
      "N    34272\n",
      "Y       27\n",
      "Name: SPECIAL_CONSIDERATIONS, dtype: int64\n"
     ]
    }
   ],
   "source": [
    "# SPECIAL_CONSIDERATIONS - drop\n",
    "SPECIAL_CONSIDERATIONS_counts = charity_df.SPECIAL_CONSIDERATIONS.value_counts()\n",
    "print(SPECIAL_CONSIDERATIONS_counts.head(25))"
   ]
  },
  {
   "cell_type": "code",
   "execution_count": 24,
   "metadata": {},
   "outputs": [
    {
     "name": "stdout",
     "output_type": "stream",
     "text": [
      "5000      25398\n",
      "10478         3\n",
      "15583         3\n",
      "6725          3\n",
      "63981         3\n",
      "90834         2\n",
      "8181          2\n",
      "27159         2\n",
      "6960          2\n",
      "43814         2\n",
      "8746          2\n",
      "15039         2\n",
      "6920          2\n",
      "32141         2\n",
      "60000         2\n",
      "9537          2\n",
      "5006          2\n",
      "27944         2\n",
      "7287          2\n",
      "238933        2\n",
      "16435         2\n",
      "195661        2\n",
      "17614         2\n",
      "5894          2\n",
      "7003          2\n",
      "Name: ASK_AMT, dtype: int64\n"
     ]
    }
   ],
   "source": [
    "# ASK_AMT drop\n",
    "ASK_AMT_counts = charity_df.ASK_AMT.value_counts()\n",
    "print(ASK_AMT_counts.head(25))"
   ]
  },
  {
   "cell_type": "code",
   "execution_count": 25,
   "metadata": {},
   "outputs": [
    {
     "name": "stdout",
     "output_type": "stream",
     "text": [
      "1    18261\n",
      "0    16038\n",
      "Name: IS_SUCCESSFUL, dtype: int64\n"
     ]
    }
   ],
   "source": [
    "# IS_SUCCESSFUL yes vs no\n",
    "IS_SUCCESSFUL_counts = charity_df.IS_SUCCESSFUL.value_counts()\n",
    "print(IS_SUCCESSFUL_counts.head(25))"
   ]
  },
  {
   "cell_type": "code",
   "execution_count": 56,
   "metadata": {},
   "outputs": [
    {
     "data": {
      "text/html": [
       "<div>\n",
       "<style scoped>\n",
       "    .dataframe tbody tr th:only-of-type {\n",
       "        vertical-align: middle;\n",
       "    }\n",
       "\n",
       "    .dataframe tbody tr th {\n",
       "        vertical-align: top;\n",
       "    }\n",
       "\n",
       "    .dataframe thead th {\n",
       "        text-align: right;\n",
       "    }\n",
       "</style>\n",
       "<table border=\"1\" class=\"dataframe\">\n",
       "  <thead>\n",
       "    <tr style=\"text-align: right;\">\n",
       "      <th></th>\n",
       "      <th>APPLICATION_TYPE</th>\n",
       "      <th>AFFILIATION</th>\n",
       "      <th>CLASSIFICATION</th>\n",
       "      <th>USE_CASE</th>\n",
       "      <th>ORGANIZATION</th>\n",
       "      <th>INCOME_AMT</th>\n",
       "      <th>IS_SUCCESSFUL</th>\n",
       "    </tr>\n",
       "  </thead>\n",
       "  <tbody>\n",
       "    <tr>\n",
       "      <th>0</th>\n",
       "      <td>Other</td>\n",
       "      <td>Other</td>\n",
       "      <td>C1000</td>\n",
       "      <td>ProductDev</td>\n",
       "      <td>Association</td>\n",
       "      <td>0</td>\n",
       "      <td>1</td>\n",
       "    </tr>\n",
       "    <tr>\n",
       "      <th>1</th>\n",
       "      <td>T3</td>\n",
       "      <td>Other</td>\n",
       "      <td>Other</td>\n",
       "      <td>Other</td>\n",
       "      <td>Other</td>\n",
       "      <td>Other</td>\n",
       "      <td>1</td>\n",
       "    </tr>\n",
       "    <tr>\n",
       "      <th>2</th>\n",
       "      <td>Other</td>\n",
       "      <td>CompanySponsored</td>\n",
       "      <td>Other</td>\n",
       "      <td>ProductDev</td>\n",
       "      <td>Association</td>\n",
       "      <td>0</td>\n",
       "      <td>0</td>\n",
       "    </tr>\n",
       "    <tr>\n",
       "      <th>3</th>\n",
       "      <td>T3</td>\n",
       "      <td>CompanySponsored</td>\n",
       "      <td>Other</td>\n",
       "      <td>Other</td>\n",
       "      <td>Other</td>\n",
       "      <td>Other</td>\n",
       "      <td>1</td>\n",
       "    </tr>\n",
       "    <tr>\n",
       "      <th>4</th>\n",
       "      <td>T3</td>\n",
       "      <td>Other</td>\n",
       "      <td>C1000</td>\n",
       "      <td>Other</td>\n",
       "      <td>Other</td>\n",
       "      <td>Other</td>\n",
       "      <td>1</td>\n",
       "    </tr>\n",
       "  </tbody>\n",
       "</table>\n",
       "</div>"
      ],
      "text/plain": [
       "  APPLICATION_TYPE       AFFILIATION CLASSIFICATION    USE_CASE ORGANIZATION  \\\n",
       "0            Other             Other          C1000  ProductDev  Association   \n",
       "1               T3             Other          Other       Other        Other   \n",
       "2            Other  CompanySponsored          Other  ProductDev  Association   \n",
       "3               T3  CompanySponsored          Other       Other        Other   \n",
       "4               T3             Other          C1000       Other        Other   \n",
       "\n",
       "  INCOME_AMT  IS_SUCCESSFUL  \n",
       "0          0              1  \n",
       "1      Other              1  \n",
       "2          0              0  \n",
       "3      Other              1  \n",
       "4      Other              1  "
      ]
     },
     "execution_count": 56,
     "metadata": {},
     "output_type": "execute_result"
    }
   ],
   "source": [
    "# drop EIN NAME, STATUS, SPECIAL_CONSIDERATIONS, ASK_AMT\n",
    "# df.drop(['B', 'C'], axis=1)\n",
    "charity_df = charity_df.drop(['EIN', 'NAME', 'STATUS', 'SPECIAL_CONSIDERATIONS', 'ASK_AMT'], axis=1)\n",
    "charity_df.head()"
   ]
  },
  {
   "cell_type": "code",
   "execution_count": null,
   "metadata": {},
   "outputs": [],
   "source": []
  },
  {
   "cell_type": "code",
   "execution_count": null,
   "metadata": {},
   "outputs": [],
   "source": []
  },
  {
   "cell_type": "code",
   "execution_count": null,
   "metadata": {},
   "outputs": [],
   "source": []
  },
  {
   "cell_type": "code",
   "execution_count": null,
   "metadata": {},
   "outputs": [],
   "source": []
  },
  {
   "cell_type": "code",
   "execution_count": null,
   "metadata": {},
   "outputs": [],
   "source": []
  },
  {
   "cell_type": "code",
   "execution_count": null,
   "metadata": {},
   "outputs": [],
   "source": []
  }
 ],
 "metadata": {
  "kernelspec": {
   "display_name": "PythonData",
   "language": "python",
   "name": "pythondata"
  },
  "language_info": {
   "codemirror_mode": {
    "name": "ipython",
    "version": 3
   },
   "file_extension": ".py",
   "mimetype": "text/x-python",
   "name": "python",
   "nbconvert_exporter": "python",
   "pygments_lexer": "ipython3",
   "version": "3.7.6"
  }
 },
 "nbformat": 4,
 "nbformat_minor": 4
}
